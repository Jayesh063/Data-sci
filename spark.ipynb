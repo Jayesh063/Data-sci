{
 "cells": [
  {
   "cell_type": "markdown",
   "id": "labeled-indian",
   "metadata": {},
   "source": [
    "# Linera regression predictive model"
   ]
  },
  {
   "cell_type": "code",
   "execution_count": 43,
   "id": "academic-prayer",
   "metadata": {},
   "outputs": [],
   "source": [
    "from pandas import *\n",
    "from matplotlib import pyplot as plt\n",
    "import numpy as np\n",
    "from sklearn import metrics  \n",
    "from sklearn.model_selection import train_test_split\n",
    "from sklearn.linear_model import LinearRegression\n",
    "%matplotlib inline"
   ]
  },
  {
   "cell_type": "markdown",
   "id": "other-charger",
   "metadata": {},
   "source": [
    "### Imported all the python libraries need"
   ]
  },
  {
   "cell_type": "code",
   "execution_count": 37,
   "id": "twelve-beatles",
   "metadata": {},
   "outputs": [
    {
     "data": {
      "text/html": [
       "<div>\n",
       "<style scoped>\n",
       "    .dataframe tbody tr th:only-of-type {\n",
       "        vertical-align: middle;\n",
       "    }\n",
       "\n",
       "    .dataframe tbody tr th {\n",
       "        vertical-align: top;\n",
       "    }\n",
       "\n",
       "    .dataframe thead th {\n",
       "        text-align: right;\n",
       "    }\n",
       "</style>\n",
       "<table border=\"1\" class=\"dataframe\">\n",
       "  <thead>\n",
       "    <tr style=\"text-align: right;\">\n",
       "      <th></th>\n",
       "      <th>Hours</th>\n",
       "      <th>Scores</th>\n",
       "    </tr>\n",
       "  </thead>\n",
       "  <tbody>\n",
       "    <tr>\n",
       "      <th>0</th>\n",
       "      <td>2.5</td>\n",
       "      <td>21</td>\n",
       "    </tr>\n",
       "    <tr>\n",
       "      <th>1</th>\n",
       "      <td>5.1</td>\n",
       "      <td>47</td>\n",
       "    </tr>\n",
       "    <tr>\n",
       "      <th>2</th>\n",
       "      <td>3.2</td>\n",
       "      <td>27</td>\n",
       "    </tr>\n",
       "    <tr>\n",
       "      <th>3</th>\n",
       "      <td>8.5</td>\n",
       "      <td>75</td>\n",
       "    </tr>\n",
       "    <tr>\n",
       "      <th>4</th>\n",
       "      <td>3.5</td>\n",
       "      <td>30</td>\n",
       "    </tr>\n",
       "  </tbody>\n",
       "</table>\n",
       "</div>"
      ],
      "text/plain": [
       "   Hours  Scores\n",
       "0    2.5      21\n",
       "1    5.1      47\n",
       "2    3.2      27\n",
       "3    8.5      75\n",
       "4    3.5      30"
      ]
     },
     "execution_count": 37,
     "metadata": {},
     "output_type": "execute_result"
    }
   ],
   "source": [
    "ds=read_csv('https://bit.ly/w-data')\n",
    "ds.head()"
   ]
  },
  {
   "cell_type": "markdown",
   "id": "small-suspect",
   "metadata": {},
   "source": [
    "## Imported the data"
   ]
  },
  {
   "cell_type": "code",
   "execution_count": 35,
   "id": "connected-census",
   "metadata": {},
   "outputs": [
    {
     "data": {
      "text/html": [
       "<div>\n",
       "<style scoped>\n",
       "    .dataframe tbody tr th:only-of-type {\n",
       "        vertical-align: middle;\n",
       "    }\n",
       "\n",
       "    .dataframe tbody tr th {\n",
       "        vertical-align: top;\n",
       "    }\n",
       "\n",
       "    .dataframe thead th {\n",
       "        text-align: right;\n",
       "    }\n",
       "</style>\n",
       "<table border=\"1\" class=\"dataframe\">\n",
       "  <thead>\n",
       "    <tr style=\"text-align: right;\">\n",
       "      <th></th>\n",
       "      <th>Hours</th>\n",
       "      <th>Scores</th>\n",
       "    </tr>\n",
       "  </thead>\n",
       "  <tbody>\n",
       "    <tr>\n",
       "      <th>count</th>\n",
       "      <td>25.000000</td>\n",
       "      <td>25.000000</td>\n",
       "    </tr>\n",
       "    <tr>\n",
       "      <th>mean</th>\n",
       "      <td>5.012000</td>\n",
       "      <td>51.480000</td>\n",
       "    </tr>\n",
       "    <tr>\n",
       "      <th>std</th>\n",
       "      <td>2.525094</td>\n",
       "      <td>25.286887</td>\n",
       "    </tr>\n",
       "    <tr>\n",
       "      <th>min</th>\n",
       "      <td>1.100000</td>\n",
       "      <td>17.000000</td>\n",
       "    </tr>\n",
       "    <tr>\n",
       "      <th>25%</th>\n",
       "      <td>2.700000</td>\n",
       "      <td>30.000000</td>\n",
       "    </tr>\n",
       "    <tr>\n",
       "      <th>50%</th>\n",
       "      <td>4.800000</td>\n",
       "      <td>47.000000</td>\n",
       "    </tr>\n",
       "    <tr>\n",
       "      <th>75%</th>\n",
       "      <td>7.400000</td>\n",
       "      <td>75.000000</td>\n",
       "    </tr>\n",
       "    <tr>\n",
       "      <th>max</th>\n",
       "      <td>9.200000</td>\n",
       "      <td>95.000000</td>\n",
       "    </tr>\n",
       "  </tbody>\n",
       "</table>\n",
       "</div>"
      ],
      "text/plain": [
       "           Hours     Scores\n",
       "count  25.000000  25.000000\n",
       "mean    5.012000  51.480000\n",
       "std     2.525094  25.286887\n",
       "min     1.100000  17.000000\n",
       "25%     2.700000  30.000000\n",
       "50%     4.800000  47.000000\n",
       "75%     7.400000  75.000000\n",
       "max     9.200000  95.000000"
      ]
     },
     "execution_count": 35,
     "metadata": {},
     "output_type": "execute_result"
    }
   ],
   "source": [
    "ds.describe()"
   ]
  },
  {
   "cell_type": "markdown",
   "id": "uniform-quilt",
   "metadata": {},
   "source": [
    "## A quick visualization of the data"
   ]
  },
  {
   "cell_type": "code",
   "execution_count": 3,
   "id": "concrete-proxy",
   "metadata": {},
   "outputs": [
    {
     "data": {
      "image/png": "[encoded data removed]",
      "text/plain": [
       "<Figure size 432x288 with 1 Axes>"
      ]
     },
     "metadata": {
      "needs_background": "light"
     },
     "output_type": "display_data"
    }
   ],
   "source": [
    "ds.plot(x='Hours', y='Scores', style='o')  \n",
    "plt.title('Hours vs Percentage')  \n",
    "plt.xlabel('Hours Studied')  \n",
    "plt.ylabel('Percentage Score')  \n",
    "plt.show()"
   ]
  },
  {
   "cell_type": "markdown",
   "id": "interracial-network",
   "metadata": {},
   "source": [
    "## Dependent and Independent Features"
   ]
  },
  {
   "cell_type": "code",
   "execution_count": 4,
   "id": "immune-durham",
   "metadata": {},
   "outputs": [],
   "source": [
    "X=ds[[\"Hours\"]]\n",
    "Y=ds[[\"Scores\"]]"
   ]
  },
  {
   "cell_type": "markdown",
   "id": "attempted-highlight",
   "metadata": {},
   "source": [
    "## Splitting training and test data"
   ]
  },
  {
   "cell_type": "code",
   "execution_count": 5,
   "id": "northern-philadelphia",
   "metadata": {},
   "outputs": [],
   "source": [
    "X_train, X_test, Y_train, Y_test= train_test_split(X,Y, test_size=0.25, random_state=0)"
   ]
  },
  {
   "cell_type": "code",
   "execution_count": 6,
   "id": "widespread-utilization",
   "metadata": {},
   "outputs": [],
   "source": [
    "a=np.array(X_train)\n",
    "x=a.reshape(-1)\n",
    "y=np.array(Y_train)"
   ]
  },
  {
   "cell_type": "code",
   "execution_count": 7,
   "id": "generic-swedish",
   "metadata": {},
   "outputs": [],
   "source": [
    "ls=LinearRegression()"
   ]
  },
  {
   "cell_type": "markdown",
   "id": "corresponding-intake",
   "metadata": {},
   "source": [
    "## learning of model"
   ]
  },
  {
   "cell_type": "code",
   "execution_count": 8,
   "id": "twelve-democrat",
   "metadata": {},
   "outputs": [
    {
     "data": {
      "text/plain": [
       "LinearRegression()"
      ]
     },
     "execution_count": 8,
     "metadata": {},
     "output_type": "execute_result"
    }
   ],
   "source": [
    "ls.fit(X_train, Y_train)"
   ]
  },
  {
   "cell_type": "markdown",
   "id": "union-complex",
   "metadata": {},
   "source": [
    "## Visualization of best fit line"
   ]
  },
  {
   "cell_type": "code",
   "execution_count": 31,
   "id": "blind-dynamics",
   "metadata": {},
   "outputs": [
    {
     "data": {
      "text/plain": [
       "Text(0, 0.5, 'Percentage Score')"
      ]
     },
     "execution_count": 31,
     "metadata": {},
     "output_type": "execute_result"
    },
    {
     "data": {
      "image/png": "[encoded data removed]",
      "text/plain": [
       "<Figure size 432x288 with 1 Axes>"
      ]
     },
     "metadata": {
      "needs_background": "light"
     },
     "output_type": "display_data"
    }
   ],
   "source": [
    "plt.plot(x,y,'o')\n",
    "m,c=np.polyfit(x,y,1)\n",
    "line=m*x+c\n",
    "plt.plot(x,line)\n",
    "plt.xlabel('Hours Studied')  \n",
    "plt.ylabel('Percentage Score')  "
   ]
  },
  {
   "cell_type": "code",
   "execution_count": 40,
   "id": "silent-conditions",
   "metadata": {},
   "outputs": [
    {
     "data": {
      "text/plain": [
       "array([[79.4772953 ],\n",
       "       [70.5297848 ],\n",
       "       [12.86805043],\n",
       "       [52.63476378],\n",
       "       [78.48312747]])"
      ]
     },
     "execution_count": 40,
     "metadata": {},
     "output_type": "execute_result"
    }
   ],
   "source": [
    "X_train_pre= ls.predict(X_train)"
   ]
  },
  {
   "cell_type": "markdown",
   "id": "turkish-visitor",
   "metadata": {},
   "source": [
    "## error between predicted and actual data in Training set"
   ]
  },
  {
   "cell_type": "code",
   "execution_count": 11,
   "id": "confirmed-removal",
   "metadata": {},
   "outputs": [
    {
     "data": {
      "text/plain": [
       "5.31933160717065"
      ]
     },
     "execution_count": 11,
     "metadata": {},
     "output_type": "execute_result"
    }
   ],
   "source": [
    "metrics.mean_absolute_error(Y_train, X_train_pre)"
   ]
  },
  {
   "cell_type": "code",
   "execution_count": 13,
   "id": "imperial-kuwait",
   "metadata": {},
   "outputs": [
    {
     "data": {
      "text/plain": [
       "array([[16.84472176],\n",
       "       [33.74557494],\n",
       "       [75.50062397],\n",
       "       [26.7864001 ],\n",
       "       [60.58810646],\n",
       "       [39.71058194],\n",
       "       [20.8213931 ]])"
      ]
     },
     "execution_count": 13,
     "metadata": {},
     "output_type": "execute_result"
    }
   ],
   "source": [
    "X_test_pre= ls.predict(X_test)\n",
    "X_test_pre"
   ]
  },
  {
   "cell_type": "markdown",
   "id": "environmental-hometown",
   "metadata": {},
   "source": [
    "## Test Error"
   ]
  },
  {
   "cell_type": "code",
   "execution_count": 14,
   "id": "assured-football",
   "metadata": {},
   "outputs": [
    {
     "data": {
      "text/plain": [
       "4.130879918502486"
      ]
     },
     "execution_count": 14,
     "metadata": {},
     "output_type": "execute_result"
    }
   ],
   "source": [
    "metrics.mean_absolute_error(Y_test, X_test_pre)"
   ]
  },
  {
   "cell_type": "markdown",
   "id": "novel-belief",
   "metadata": {},
   "source": [
    "## Score predicted by model at 9.25 hr/day study"
   ]
  },
  {
   "cell_type": "code",
   "execution_count": 30,
   "id": "express-fashion",
   "metadata": {},
   "outputs": [
    {
     "data": {
      "text/plain": [
       "array([[93.89272889]])"
      ]
     },
     "execution_count": 30,
     "metadata": {},
     "output_type": "execute_result"
    }
   ],
   "source": [
    "Score_pred= ls.predict([[9.25]])\n",
    "Score_pred"
   ]
  },
  {
   "cell_type": "code",
   "execution_count": 33,
   "id": "prepared-atlanta",
   "metadata": {},
   "outputs": [],
   "source": [
    "c=np.array(X_test)\n",
    "n=np.array(Y_test)"
   ]
  },
  {
   "cell_type": "markdown",
   "id": "silent-belle",
   "metadata": {},
   "source": [
    "## Visualization on Test data"
   ]
  },
  {
   "cell_type": "code",
   "execution_count": 34,
   "id": "stopped-calendar",
   "metadata": {},
   "outputs": [
    {
     "data": {
      "text/plain": [
       "Text(0, 0.5, 'Percentage Score')"
      ]
     },
     "execution_count": 34,
     "metadata": {},
     "output_type": "execute_result"
    },
    {
     "data": {
      "image/png": "[encoded data removed]",
      "text/plain": [
       "<Figure size 432x288 with 1 Axes>"
      ]
     },
     "metadata": {
      "needs_background": "light"
     },
     "output_type": "display_data"
    }
   ],
   "source": [
    "plt.plot(c,n,'o')\n",
    "plt.plot(x,line)\n",
    "plt.xlabel('Hours Studied')  \n",
    "plt.ylabel('Percentage Score') "
   ]
  },
  {
   "cell_type": "markdown",
   "id": "bright-transmission",
   "metadata": {},
   "source": [
    "## Thank you"
   ]
  },
  {
   "cell_type": "code",
   "execution_count": null,
   "id": "waiting-diameter",
   "metadata": {},
   "outputs": [],
   "source": []
  }
 ],
 "metadata": {
  "kernelspec": {
   "display_name": "Python 3",
   "language": "python",
   "name": "python3"
  },
  "language_info": {
   "codemirror_mode": {
    "name": "ipython",
    "version": 3
   },
   "file_extension": ".py",
   "mimetype": "text/x-python",
   "name": "python",
   "nbconvert_exporter": "python",
   "pygments_lexer": "ipython3",
   "version": "3.9.0"
  }
 },
 "nbformat": 4,
 "nbformat_minor": 5
}
