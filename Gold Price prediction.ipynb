{
 "cells": [
  {
   "cell_type": "code",
   "execution_count": 1,
   "id": "faced-exemption",
   "metadata": {},
   "outputs": [],
   "source": [
    "from numpy import*\n",
    "from pandas import*\n",
    "import matplotlib.pyplot as plt\n",
    "import seaborn as sns\n",
    "from sklearn.model_selection import train_test_split\n",
    "from sklearn.ensemble import RandomForestRegressor\n",
    "from sklearn import metrics"
   ]
  },
  {
   "cell_type": "code",
   "execution_count": 2,
   "id": "arbitrary-purple",
   "metadata": {},
   "outputs": [],
   "source": [
    "gold_df= read_csv(r\"C:\\Users\\Asus\\Downloads\\gld_price_data.csv\")"
   ]
  },
  {
   "cell_type": "code",
   "execution_count": 3,
   "id": "apparent-trainer",
   "metadata": {},
   "outputs": [
    {
     "data": {
      "text/html": [
       "<div>\n",
       "<style scoped>\n",
       "    .dataframe tbody tr th:only-of-type {\n",
       "        vertical-align: middle;\n",
       "    }\n",
       "\n",
       "    .dataframe tbody tr th {\n",
       "        vertical-align: top;\n",
       "    }\n",
       "\n",
       "    .dataframe thead th {\n",
       "        text-align: right;\n",
       "    }\n",
       "</style>\n",
       "<table border=\"1\" class=\"dataframe\">\n",
       "  <thead>\n",
       "    <tr style=\"text-align: right;\">\n",
       "      <th></th>\n",
       "      <th>Date</th>\n",
       "      <th>SPX</th>\n",
       "      <th>GLD</th>\n",
       "      <th>USO</th>\n",
       "      <th>SLV</th>\n",
       "      <th>EUR/USD</th>\n",
       "    </tr>\n",
       "  </thead>\n",
       "  <tbody>\n",
       "    <tr>\n",
       "      <th>0</th>\n",
       "      <td>1/2/2008</td>\n",
       "      <td>1447.160034</td>\n",
       "      <td>84.860001</td>\n",
       "      <td>78.470001</td>\n",
       "      <td>15.1800</td>\n",
       "      <td>1.471692</td>\n",
       "    </tr>\n",
       "    <tr>\n",
       "      <th>1</th>\n",
       "      <td>1/3/2008</td>\n",
       "      <td>1447.160034</td>\n",
       "      <td>85.570000</td>\n",
       "      <td>78.370003</td>\n",
       "      <td>15.2850</td>\n",
       "      <td>1.474491</td>\n",
       "    </tr>\n",
       "    <tr>\n",
       "      <th>2</th>\n",
       "      <td>1/4/2008</td>\n",
       "      <td>1411.630005</td>\n",
       "      <td>85.129997</td>\n",
       "      <td>77.309998</td>\n",
       "      <td>15.1670</td>\n",
       "      <td>1.475492</td>\n",
       "    </tr>\n",
       "    <tr>\n",
       "      <th>3</th>\n",
       "      <td>1/7/2008</td>\n",
       "      <td>1416.180054</td>\n",
       "      <td>84.769997</td>\n",
       "      <td>75.500000</td>\n",
       "      <td>15.0530</td>\n",
       "      <td>1.468299</td>\n",
       "    </tr>\n",
       "    <tr>\n",
       "      <th>4</th>\n",
       "      <td>1/8/2008</td>\n",
       "      <td>1390.189941</td>\n",
       "      <td>86.779999</td>\n",
       "      <td>76.059998</td>\n",
       "      <td>15.5900</td>\n",
       "      <td>1.557099</td>\n",
       "    </tr>\n",
       "    <tr>\n",
       "      <th>...</th>\n",
       "      <td>...</td>\n",
       "      <td>...</td>\n",
       "      <td>...</td>\n",
       "      <td>...</td>\n",
       "      <td>...</td>\n",
       "      <td>...</td>\n",
       "    </tr>\n",
       "    <tr>\n",
       "      <th>2285</th>\n",
       "      <td>5/8/2018</td>\n",
       "      <td>2671.919922</td>\n",
       "      <td>124.589996</td>\n",
       "      <td>14.060000</td>\n",
       "      <td>15.5100</td>\n",
       "      <td>1.186789</td>\n",
       "    </tr>\n",
       "    <tr>\n",
       "      <th>2286</th>\n",
       "      <td>5/9/2018</td>\n",
       "      <td>2697.790039</td>\n",
       "      <td>124.330002</td>\n",
       "      <td>14.370000</td>\n",
       "      <td>15.5300</td>\n",
       "      <td>1.184722</td>\n",
       "    </tr>\n",
       "    <tr>\n",
       "      <th>2287</th>\n",
       "      <td>5/10/2018</td>\n",
       "      <td>2723.070068</td>\n",
       "      <td>125.180000</td>\n",
       "      <td>14.410000</td>\n",
       "      <td>15.7400</td>\n",
       "      <td>1.191753</td>\n",
       "    </tr>\n",
       "    <tr>\n",
       "      <th>2288</th>\n",
       "      <td>5/14/2018</td>\n",
       "      <td>2730.129883</td>\n",
       "      <td>124.489998</td>\n",
       "      <td>14.380000</td>\n",
       "      <td>15.5600</td>\n",
       "      <td>1.193118</td>\n",
       "    </tr>\n",
       "    <tr>\n",
       "      <th>2289</th>\n",
       "      <td>5/16/2018</td>\n",
       "      <td>2725.780029</td>\n",
       "      <td>122.543800</td>\n",
       "      <td>14.405800</td>\n",
       "      <td>15.4542</td>\n",
       "      <td>1.182033</td>\n",
       "    </tr>\n",
       "  </tbody>\n",
       "</table>\n",
       "<p>2290 rows × 6 columns</p>\n",
       "</div>"
      ],
      "text/plain": [
       "           Date          SPX         GLD        USO      SLV   EUR/USD\n",
       "0      1/2/2008  1447.160034   84.860001  78.470001  15.1800  1.471692\n",
       "1      1/3/2008  1447.160034   85.570000  78.370003  15.2850  1.474491\n",
       "2      1/4/2008  1411.630005   85.129997  77.309998  15.1670  1.475492\n",
       "3      1/7/2008  1416.180054   84.769997  75.500000  15.0530  1.468299\n",
       "4      1/8/2008  1390.189941   86.779999  76.059998  15.5900  1.557099\n",
       "...         ...          ...         ...        ...      ...       ...\n",
       "2285   5/8/2018  2671.919922  124.589996  14.060000  15.5100  1.186789\n",
       "2286   5/9/2018  2697.790039  124.330002  14.370000  15.5300  1.184722\n",
       "2287  5/10/2018  2723.070068  125.180000  14.410000  15.7400  1.191753\n",
       "2288  5/14/2018  2730.129883  124.489998  14.380000  15.5600  1.193118\n",
       "2289  5/16/2018  2725.780029  122.543800  14.405800  15.4542  1.182033\n",
       "\n",
       "[2290 rows x 6 columns]"
      ]
     },
     "execution_count": 3,
     "metadata": {},
     "output_type": "execute_result"
    }
   ],
   "source": [
    "gold_df"
   ]
  },
  {
   "cell_type": "markdown",
   "id": "continued-police",
   "metadata": {},
   "source": [
    "\n",
    "SPX= capatilization index of 500 companies,\n",
    "GLD= Gold Price,\n",
    "USO= united states oil,\n",
    "SLV= silver price value,\n",
    "ERU/USD= currency pair(euro to US doller ratio).\n"
   ]
  },
  {
   "cell_type": "code",
   "execution_count": 4,
   "id": "opened-breath",
   "metadata": {},
   "outputs": [
    {
     "name": "stdout",
     "output_type": "stream",
     "text": [
      "<class 'pandas.core.frame.DataFrame'>\n",
      "RangeIndex: 2290 entries, 0 to 2289\n",
      "Data columns (total 6 columns):\n",
      " #   Column   Non-Null Count  Dtype  \n",
      "---  ------   --------------  -----  \n",
      " 0   Date     2290 non-null   object \n",
      " 1   SPX      2290 non-null   float64\n",
      " 2   GLD      2290 non-null   float64\n",
      " 3   USO      2290 non-null   float64\n",
      " 4   SLV      2290 non-null   float64\n",
      " 5   EUR/USD  2290 non-null   float64\n",
      "dtypes: float64(5), object(1)\n",
      "memory usage: 107.5+ KB\n"
     ]
    }
   ],
   "source": [
    "gold_df.info()"
   ]
  },
  {
   "cell_type": "code",
   "execution_count": 5,
   "id": "checked-membrane",
   "metadata": {},
   "outputs": [
    {
     "data": {
      "text/plain": [
       "Date       0\n",
       "SPX        0\n",
       "GLD        0\n",
       "USO        0\n",
       "SLV        0\n",
       "EUR/USD    0\n",
       "dtype: int64"
      ]
     },
     "execution_count": 5,
     "metadata": {},
     "output_type": "execute_result"
    }
   ],
   "source": [
    "#checking missing value\n",
    "gold_df.isnull().sum()"
   ]
  },
  {
   "cell_type": "code",
   "execution_count": 6,
   "id": "everyday-awareness",
   "metadata": {},
   "outputs": [
    {
     "data": {
      "text/html": [
       "<div>\n",
       "<style scoped>\n",
       "    .dataframe tbody tr th:only-of-type {\n",
       "        vertical-align: middle;\n",
       "    }\n",
       "\n",
       "    .dataframe tbody tr th {\n",
       "        vertical-align: top;\n",
       "    }\n",
       "\n",
       "    .dataframe thead th {\n",
       "        text-align: right;\n",
       "    }\n",
       "</style>\n",
       "<table border=\"1\" class=\"dataframe\">\n",
       "  <thead>\n",
       "    <tr style=\"text-align: right;\">\n",
       "      <th></th>\n",
       "      <th>SPX</th>\n",
       "      <th>GLD</th>\n",
       "      <th>USO</th>\n",
       "      <th>SLV</th>\n",
       "      <th>EUR/USD</th>\n",
       "    </tr>\n",
       "  </thead>\n",
       "  <tbody>\n",
       "    <tr>\n",
       "      <th>count</th>\n",
       "      <td>2290.000000</td>\n",
       "      <td>2290.000000</td>\n",
       "      <td>2290.000000</td>\n",
       "      <td>2290.000000</td>\n",
       "      <td>2290.000000</td>\n",
       "    </tr>\n",
       "    <tr>\n",
       "      <th>mean</th>\n",
       "      <td>1654.315776</td>\n",
       "      <td>122.732875</td>\n",
       "      <td>31.842221</td>\n",
       "      <td>20.084997</td>\n",
       "      <td>1.283653</td>\n",
       "    </tr>\n",
       "    <tr>\n",
       "      <th>std</th>\n",
       "      <td>519.111540</td>\n",
       "      <td>23.283346</td>\n",
       "      <td>19.523517</td>\n",
       "      <td>7.092566</td>\n",
       "      <td>0.131547</td>\n",
       "    </tr>\n",
       "    <tr>\n",
       "      <th>min</th>\n",
       "      <td>676.530029</td>\n",
       "      <td>70.000000</td>\n",
       "      <td>7.960000</td>\n",
       "      <td>8.850000</td>\n",
       "      <td>1.039047</td>\n",
       "    </tr>\n",
       "    <tr>\n",
       "      <th>25%</th>\n",
       "      <td>1239.874969</td>\n",
       "      <td>109.725000</td>\n",
       "      <td>14.380000</td>\n",
       "      <td>15.570000</td>\n",
       "      <td>1.171313</td>\n",
       "    </tr>\n",
       "    <tr>\n",
       "      <th>50%</th>\n",
       "      <td>1551.434998</td>\n",
       "      <td>120.580002</td>\n",
       "      <td>33.869999</td>\n",
       "      <td>17.268500</td>\n",
       "      <td>1.303297</td>\n",
       "    </tr>\n",
       "    <tr>\n",
       "      <th>75%</th>\n",
       "      <td>2073.010070</td>\n",
       "      <td>132.840004</td>\n",
       "      <td>37.827501</td>\n",
       "      <td>22.882500</td>\n",
       "      <td>1.369971</td>\n",
       "    </tr>\n",
       "    <tr>\n",
       "      <th>max</th>\n",
       "      <td>2872.870117</td>\n",
       "      <td>184.589996</td>\n",
       "      <td>117.480003</td>\n",
       "      <td>47.259998</td>\n",
       "      <td>1.598798</td>\n",
       "    </tr>\n",
       "  </tbody>\n",
       "</table>\n",
       "</div>"
      ],
      "text/plain": [
       "               SPX          GLD          USO          SLV      EUR/USD\n",
       "count  2290.000000  2290.000000  2290.000000  2290.000000  2290.000000\n",
       "mean   1654.315776   122.732875    31.842221    20.084997     1.283653\n",
       "std     519.111540    23.283346    19.523517     7.092566     0.131547\n",
       "min     676.530029    70.000000     7.960000     8.850000     1.039047\n",
       "25%    1239.874969   109.725000    14.380000    15.570000     1.171313\n",
       "50%    1551.434998   120.580002    33.869999    17.268500     1.303297\n",
       "75%    2073.010070   132.840004    37.827501    22.882500     1.369971\n",
       "max    2872.870117   184.589996   117.480003    47.259998     1.598798"
      ]
     },
     "execution_count": 6,
     "metadata": {},
     "output_type": "execute_result"
    }
   ],
   "source": [
    "gold_df.describe()"
   ]
  },
  {
   "cell_type": "code",
   "execution_count": 7,
   "id": "golden-watson",
   "metadata": {},
   "outputs": [
    {
     "data": {
      "text/html": [
       "<div>\n",
       "<style scoped>\n",
       "    .dataframe tbody tr th:only-of-type {\n",
       "        vertical-align: middle;\n",
       "    }\n",
       "\n",
       "    .dataframe tbody tr th {\n",
       "        vertical-align: top;\n",
       "    }\n",
       "\n",
       "    .dataframe thead th {\n",
       "        text-align: right;\n",
       "    }\n",
       "</style>\n",
       "<table border=\"1\" class=\"dataframe\">\n",
       "  <thead>\n",
       "    <tr style=\"text-align: right;\">\n",
       "      <th></th>\n",
       "      <th>SPX</th>\n",
       "      <th>GLD</th>\n",
       "      <th>USO</th>\n",
       "      <th>SLV</th>\n",
       "      <th>EUR/USD</th>\n",
       "    </tr>\n",
       "  </thead>\n",
       "  <tbody>\n",
       "    <tr>\n",
       "      <th>SPX</th>\n",
       "      <td>1.000000</td>\n",
       "      <td>0.049345</td>\n",
       "      <td>-0.591573</td>\n",
       "      <td>-0.274055</td>\n",
       "      <td>-0.672017</td>\n",
       "    </tr>\n",
       "    <tr>\n",
       "      <th>GLD</th>\n",
       "      <td>0.049345</td>\n",
       "      <td>1.000000</td>\n",
       "      <td>-0.186360</td>\n",
       "      <td>0.866632</td>\n",
       "      <td>-0.024375</td>\n",
       "    </tr>\n",
       "    <tr>\n",
       "      <th>USO</th>\n",
       "      <td>-0.591573</td>\n",
       "      <td>-0.186360</td>\n",
       "      <td>1.000000</td>\n",
       "      <td>0.167547</td>\n",
       "      <td>0.829317</td>\n",
       "    </tr>\n",
       "    <tr>\n",
       "      <th>SLV</th>\n",
       "      <td>-0.274055</td>\n",
       "      <td>0.866632</td>\n",
       "      <td>0.167547</td>\n",
       "      <td>1.000000</td>\n",
       "      <td>0.321631</td>\n",
       "    </tr>\n",
       "    <tr>\n",
       "      <th>EUR/USD</th>\n",
       "      <td>-0.672017</td>\n",
       "      <td>-0.024375</td>\n",
       "      <td>0.829317</td>\n",
       "      <td>0.321631</td>\n",
       "      <td>1.000000</td>\n",
       "    </tr>\n",
       "  </tbody>\n",
       "</table>\n",
       "</div>"
      ],
      "text/plain": [
       "              SPX       GLD       USO       SLV   EUR/USD\n",
       "SPX      1.000000  0.049345 -0.591573 -0.274055 -0.672017\n",
       "GLD      0.049345  1.000000 -0.186360  0.866632 -0.024375\n",
       "USO     -0.591573 -0.186360  1.000000  0.167547  0.829317\n",
       "SLV     -0.274055  0.866632  0.167547  1.000000  0.321631\n",
       "EUR/USD -0.672017 -0.024375  0.829317  0.321631  1.000000"
      ]
     },
     "execution_count": 7,
     "metadata": {},
     "output_type": "execute_result"
    }
   ],
   "source": [
    "correlation= gold_df.corr()\n",
    "correlation"
   ]
  },
  {
   "cell_type": "code",
   "execution_count": 8,
   "id": "postal-telescope",
   "metadata": {},
   "outputs": [
    {
     "data": {
      "text/plain": [
       "<AxesSubplot:>"
      ]
     },
     "execution_count": 8,
     "metadata": {},
     "output_type": "execute_result"
    },
    {
     "data": {
      "image/png": "[encoded data removed]",
      "text/plain": [
       "<Figure size 576x576 with 2 Axes>"
      ]
     },
     "metadata": {
      "needs_background": "light"
     },
     "output_type": "display_data"
    }
   ],
   "source": [
    "plt.figure(figsize =(8,8))\n",
    "sns.heatmap(correlation, cbar=True, square=True, fmt='.1f',annot=True, annot_kws={'size':8}, cmap='Greens')"
   ]
  },
  {
   "cell_type": "code",
   "execution_count": 9,
   "id": "excited-chorus",
   "metadata": {},
   "outputs": [
    {
     "data": {
      "text/plain": [
       "SPX        0.049345\n",
       "GLD        1.000000\n",
       "USO       -0.186360\n",
       "SLV        0.866632\n",
       "EUR/USD   -0.024375\n",
       "Name: GLD, dtype: float64"
      ]
     },
     "execution_count": 9,
     "metadata": {},
     "output_type": "execute_result"
    }
   ],
   "source": [
    "correlation[\"GLD\"]"
   ]
  },
  {
   "cell_type": "code",
   "execution_count": 10,
   "id": "appreciated-monte",
   "metadata": {},
   "outputs": [
    {
     "name": "stderr",
     "output_type": "stream",
     "text": [
      "c:\\python 39\\lib\\site-packages\\seaborn\\distributions.py:2557: FutureWarning: `distplot` is a deprecated function and will be removed in a future version. Please adapt your code to use either `displot` (a figure-level function with similar flexibility) or `histplot` (an axes-level function for histograms).\n",
      "  warnings.warn(msg, FutureWarning)\n"
     ]
    },
    {
     "data": {
      "text/plain": [
       "<AxesSubplot:xlabel='GLD', ylabel='Density'>"
      ]
     },
     "execution_count": 10,
     "metadata": {},
     "output_type": "execute_result"
    },
    {
     "data": {
      "image/png": "[encoded data removed]",
      "text/plain": [
       "<Figure size 432x288 with 1 Axes>"
      ]
     },
     "metadata": {
      "needs_background": "light"
     },
     "output_type": "display_data"
    }
   ],
   "source": [
    "sns.distplot(gold_df['GLD'], color='red')"
   ]
  },
  {
   "cell_type": "markdown",
   "id": "noted-highway",
   "metadata": {},
   "source": [
    "spliting the features"
   ]
  },
  {
   "cell_type": "code",
   "execution_count": 11,
   "id": "brave-frost",
   "metadata": {},
   "outputs": [
    {
     "data": {
      "text/html": [
       "<div>\n",
       "<style scoped>\n",
       "    .dataframe tbody tr th:only-of-type {\n",
       "        vertical-align: middle;\n",
       "    }\n",
       "\n",
       "    .dataframe tbody tr th {\n",
       "        vertical-align: top;\n",
       "    }\n",
       "\n",
       "    .dataframe thead th {\n",
       "        text-align: right;\n",
       "    }\n",
       "</style>\n",
       "<table border=\"1\" class=\"dataframe\">\n",
       "  <thead>\n",
       "    <tr style=\"text-align: right;\">\n",
       "      <th></th>\n",
       "      <th>SPX</th>\n",
       "      <th>USO</th>\n",
       "      <th>SLV</th>\n",
       "      <th>EUR/USD</th>\n",
       "    </tr>\n",
       "  </thead>\n",
       "  <tbody>\n",
       "    <tr>\n",
       "      <th>0</th>\n",
       "      <td>1447.160034</td>\n",
       "      <td>78.470001</td>\n",
       "      <td>15.1800</td>\n",
       "      <td>1.471692</td>\n",
       "    </tr>\n",
       "    <tr>\n",
       "      <th>1</th>\n",
       "      <td>1447.160034</td>\n",
       "      <td>78.370003</td>\n",
       "      <td>15.2850</td>\n",
       "      <td>1.474491</td>\n",
       "    </tr>\n",
       "    <tr>\n",
       "      <th>2</th>\n",
       "      <td>1411.630005</td>\n",
       "      <td>77.309998</td>\n",
       "      <td>15.1670</td>\n",
       "      <td>1.475492</td>\n",
       "    </tr>\n",
       "    <tr>\n",
       "      <th>3</th>\n",
       "      <td>1416.180054</td>\n",
       "      <td>75.500000</td>\n",
       "      <td>15.0530</td>\n",
       "      <td>1.468299</td>\n",
       "    </tr>\n",
       "    <tr>\n",
       "      <th>4</th>\n",
       "      <td>1390.189941</td>\n",
       "      <td>76.059998</td>\n",
       "      <td>15.5900</td>\n",
       "      <td>1.557099</td>\n",
       "    </tr>\n",
       "    <tr>\n",
       "      <th>...</th>\n",
       "      <td>...</td>\n",
       "      <td>...</td>\n",
       "      <td>...</td>\n",
       "      <td>...</td>\n",
       "    </tr>\n",
       "    <tr>\n",
       "      <th>2285</th>\n",
       "      <td>2671.919922</td>\n",
       "      <td>14.060000</td>\n",
       "      <td>15.5100</td>\n",
       "      <td>1.186789</td>\n",
       "    </tr>\n",
       "    <tr>\n",
       "      <th>2286</th>\n",
       "      <td>2697.790039</td>\n",
       "      <td>14.370000</td>\n",
       "      <td>15.5300</td>\n",
       "      <td>1.184722</td>\n",
       "    </tr>\n",
       "    <tr>\n",
       "      <th>2287</th>\n",
       "      <td>2723.070068</td>\n",
       "      <td>14.410000</td>\n",
       "      <td>15.7400</td>\n",
       "      <td>1.191753</td>\n",
       "    </tr>\n",
       "    <tr>\n",
       "      <th>2288</th>\n",
       "      <td>2730.129883</td>\n",
       "      <td>14.380000</td>\n",
       "      <td>15.5600</td>\n",
       "      <td>1.193118</td>\n",
       "    </tr>\n",
       "    <tr>\n",
       "      <th>2289</th>\n",
       "      <td>2725.780029</td>\n",
       "      <td>14.405800</td>\n",
       "      <td>15.4542</td>\n",
       "      <td>1.182033</td>\n",
       "    </tr>\n",
       "  </tbody>\n",
       "</table>\n",
       "<p>2290 rows × 4 columns</p>\n",
       "</div>"
      ],
      "text/plain": [
       "              SPX        USO      SLV   EUR/USD\n",
       "0     1447.160034  78.470001  15.1800  1.471692\n",
       "1     1447.160034  78.370003  15.2850  1.474491\n",
       "2     1411.630005  77.309998  15.1670  1.475492\n",
       "3     1416.180054  75.500000  15.0530  1.468299\n",
       "4     1390.189941  76.059998  15.5900  1.557099\n",
       "...           ...        ...      ...       ...\n",
       "2285  2671.919922  14.060000  15.5100  1.186789\n",
       "2286  2697.790039  14.370000  15.5300  1.184722\n",
       "2287  2723.070068  14.410000  15.7400  1.191753\n",
       "2288  2730.129883  14.380000  15.5600  1.193118\n",
       "2289  2725.780029  14.405800  15.4542  1.182033\n",
       "\n",
       "[2290 rows x 4 columns]"
      ]
     },
     "execution_count": 11,
     "metadata": {},
     "output_type": "execute_result"
    }
   ],
   "source": [
    "x=gold_df.drop(['Date', 'GLD'], axis=1)\n",
    "y=gold_df['GLD']\n",
    "x\n"
   ]
  },
  {
   "cell_type": "code",
   "execution_count": 12,
   "id": "unlike-hollywood",
   "metadata": {},
   "outputs": [
    {
     "data": {
      "text/plain": [
       "0        84.860001\n",
       "1        85.570000\n",
       "2        85.129997\n",
       "3        84.769997\n",
       "4        86.779999\n",
       "           ...    \n",
       "2285    124.589996\n",
       "2286    124.330002\n",
       "2287    125.180000\n",
       "2288    124.489998\n",
       "2289    122.543800\n",
       "Name: GLD, Length: 2290, dtype: float64"
      ]
     },
     "execution_count": 12,
     "metadata": {},
     "output_type": "execute_result"
    }
   ],
   "source": [
    "y"
   ]
  },
  {
   "cell_type": "code",
   "execution_count": 13,
   "id": "decimal-algebra",
   "metadata": {},
   "outputs": [],
   "source": [
    "X_train,X_test,Y_train,Y_test= train_test_split(x,y, test_size=0.2, random_state=2)"
   ]
  },
  {
   "cell_type": "markdown",
   "id": "gentle-scale",
   "metadata": {},
   "source": [
    "Model training: Random Forest Regressor"
   ]
  },
  {
   "cell_type": "code",
   "execution_count": 14,
   "id": "prerequisite-tuition",
   "metadata": {},
   "outputs": [],
   "source": [
    "fore_reg= RandomForestRegressor(n_estimators=100)"
   ]
  },
  {
   "cell_type": "code",
   "execution_count": 15,
   "id": "weekly-slovenia",
   "metadata": {},
   "outputs": [
    {
     "data": {
      "text/plain": [
       "RandomForestRegressor()"
      ]
     },
     "execution_count": 15,
     "metadata": {},
     "output_type": "execute_result"
    }
   ],
   "source": [
    "fore_reg.fit(X_train,Y_train)"
   ]
  },
  {
   "cell_type": "code",
   "execution_count": 16,
   "id": "miniature-creation",
   "metadata": {},
   "outputs": [
    {
     "data": {
      "text/plain": [
       "array([168.76199979,  81.98819993, 115.85409983, 127.59010068,\n",
       "       120.74800159, 154.61979763, 150.27209897, 126.02170013,\n",
       "       117.32399878, 126.00460074, 116.68000098, 170.81480055,\n",
       "       141.85159825, 168.05099879, 115.41889964, 117.72860062,\n",
       "       138.55720336, 170.22990111, 159.54680294, 158.80669895,\n",
       "       155.19490014, 125.49540048, 175.4629997 , 156.77120304,\n",
       "       125.25440041,  93.79719998,  77.2463999 , 120.56510008,\n",
       "       119.08039886, 167.52919966,  88.21990023, 125.2341001 ,\n",
       "        91.1420007 , 117.64900051, 121.15929936, 136.7617005 ,\n",
       "       115.47660145, 114.90580079, 147.85110031, 107.37230072,\n",
       "       104.25070216,  87.14009784, 126.54730066, 118.14520019,\n",
       "       152.82719941, 119.54770033, 108.45300009, 108.28309855,\n",
       "        93.117401  , 126.9658984 ,  74.82320024, 113.72859964,\n",
       "       121.39710026, 111.31359943, 118.87479907, 120.82149977,\n",
       "       159.45569941, 168.94990087, 147.02269665,  85.78079819,\n",
       "        94.35990042,  86.70159891,  90.71000012, 118.92150093,\n",
       "       126.45810015, 127.55100012, 169.78639937, 122.37249938,\n",
       "       117.31539884,  98.63300041, 168.15250187, 143.34889881,\n",
       "       132.15480238, 121.19000248, 121.17599937, 119.8136008 ,\n",
       "       114.30790171, 118.26920056, 107.37020098, 127.97280075,\n",
       "       114.02879954, 107.18420014, 116.85010044, 119.67259845,\n",
       "        88.96350026,  88.1427988 , 146.67570205, 127.22150018,\n",
       "       113.23380047, 110.06049833, 108.27509892,  77.3482991 ,\n",
       "       169.78590222, 114.02379904, 121.51549943, 127.9689018 ,\n",
       "       155.05349868,  91.80189946, 136.75240053, 158.77740303,\n",
       "       124.95360079, 125.4390003 , 130.85460176, 114.66390117,\n",
       "       120.0246997 ,  92.12539996, 110.40509874, 167.7782988 ,\n",
       "       157.2954982 , 114.11699947, 106.60300135,  79.54949983,\n",
       "       113.30739996, 125.7523004 , 107.29639928, 119.56790117,\n",
       "       155.60170333, 159.51049972, 119.92679988, 134.67520302,\n",
       "       101.55839985, 117.67619807, 119.40420012, 113.06510081,\n",
       "       102.75749895, 160.34549807,  98.67350065, 148.17899903,\n",
       "       125.57410099, 169.30339875, 125.37579888, 127.34489752,\n",
       "       127.60350195, 113.78579908, 113.15460087, 123.7348992 ,\n",
       "       102.19519904,  89.4048995 , 124.20419992, 101.47619911,\n",
       "       107.12619893, 113.37420045, 117.08950068,  99.34729967,\n",
       "       121.93430044, 163.23119923,  87.26629838, 106.75080038,\n",
       "       117.052901  , 127.70690153, 124.08880055,  80.74299904,\n",
       "       120.2622007 , 157.67939882,  87.73609943, 110.3119991 ,\n",
       "       118.71349931, 171.79379889, 102.94429904, 105.41440064,\n",
       "       122.13890029, 157.9658981 ,  87.57019822,  93.04860044,\n",
       "       113.00720014, 177.36689947, 114.84959979, 119.40750015,\n",
       "        94.81720084, 125.52580043, 166.00830034, 114.59120079,\n",
       "       116.68640125,  88.20959885, 148.75450055, 120.3132995 ,\n",
       "        89.57079996, 112.25259989, 117.27170072, 118.77600126,\n",
       "        88.28279946,  94.42760025, 117.06970002, 118.36030186,\n",
       "       120.47610034, 126.84199847, 121.98520026, 150.05790039,\n",
       "       165.89450057, 118.5449994 , 120.2353016 , 150.77700028,\n",
       "       118.44219911, 171.96599885, 105.71249934, 104.91530145,\n",
       "       148.79020063, 113.79060043, 124.74110135, 147.9013997 ,\n",
       "       119.61550143, 115.27650029, 112.48529979, 113.59340201,\n",
       "       141.58410147, 117.82119773, 102.9454004 , 115.86420129,\n",
       "       103.6996019 ,  98.70040017, 117.55180078,  90.70549983,\n",
       "        91.61570034, 153.59609917, 102.64579968, 154.45500098,\n",
       "       114.33760168, 139.04270081,  90.04709843, 115.54249913,\n",
       "       115.1296996 , 122.95660037, 121.79060031, 165.51560132,\n",
       "        92.88419934, 135.7564017 , 121.34759951, 120.94080057,\n",
       "       104.73750011, 141.33740316, 121.55769896, 116.64050042,\n",
       "       113.26300086, 127.00679739, 122.53949961, 125.73570001,\n",
       "       121.24100028,  86.80689912, 132.53910163, 146.55360181,\n",
       "        92.76119903, 159.78439935, 158.75090265, 126.39279852,\n",
       "       165.22359937, 108.68479953, 109.68520104, 103.58969817,\n",
       "        94.21340106, 127.86320276, 107.08280038, 163.66029964,\n",
       "       121.88730026, 132.34700011, 130.89330174, 160.64399941,\n",
       "        90.07289855, 174.86890145, 128.03000067, 126.82389858,\n",
       "        86.40999917, 124.55789955, 150.27839733,  89.72630013,\n",
       "       107.07540009, 108.97629989,  83.78799906, 136.56879985,\n",
       "       154.96100155, 139.51290334,  74.24760037, 152.37340085,\n",
       "       126.16879941, 126.77700008, 127.46289963, 108.60149919,\n",
       "       156.54960077, 114.33260105, 117.01940134, 125.04709914,\n",
       "       154.15380165, 121.22519992, 156.43019871,  92.9414008 ,\n",
       "       125.52470127, 125.52020066,  87.7941003 ,  91.99079951,\n",
       "       126.25259915, 128.47670364, 113.28360025, 117.79299764,\n",
       "       121.09050034, 127.20069747, 119.69170113, 136.56629995,\n",
       "        94.02329968, 119.82129999, 113.32720126,  94.26529945,\n",
       "       108.88669976,  87.25879908, 109.29069939,  89.64199991,\n",
       "        92.56880017, 131.8738031 , 162.44700036,  89.14530002,\n",
       "       119.70650081, 133.22860202, 123.78820026, 128.35000201,\n",
       "       101.98169859,  89.04689852, 132.22020025, 119.59950039,\n",
       "       108.52380023, 169.50700033, 115.2063004 ,  86.63799884,\n",
       "       118.86410067,  91.09699985, 162.29429966, 116.53670071,\n",
       "       121.6953002 , 160.13019873, 120.18019937, 112.83589968,\n",
       "       108.51829866, 126.72610007,  76.30130006, 102.99069989,\n",
       "       127.6462028 , 121.8665991 ,  92.61340011, 132.46270098,\n",
       "       118.08860119, 115.9071997 , 154.51520272, 160.11740086,\n",
       "       110.09219975, 154.17689783, 119.32290081, 160.68400118,\n",
       "       118.53280038, 159.023399  , 115.08349936, 116.35440019,\n",
       "       148.49789871, 114.72420087, 125.64229849, 165.77369924,\n",
       "       117.66710013, 125.14129952, 153.14460359, 153.48420255,\n",
       "       132.23400051, 114.73190039, 121.29710211, 124.89240047,\n",
       "        89.77830043, 122.62560012, 155.15790239, 111.85740035,\n",
       "       106.60170036, 161.78250054, 118.51970009, 165.75870023,\n",
       "       134.11540146, 115.02259997, 152.89439845, 168.6667009 ,\n",
       "       114.20479999, 114.07120111, 158.70069861,  85.26979902,\n",
       "       127.03470126, 127.95310044, 128.80199992, 124.36480079,\n",
       "       123.88170059,  90.54230057, 153.12599943,  97.13539982,\n",
       "       137.61890001,  89.30809951, 107.1115001 , 114.97680047,\n",
       "       112.75440105, 124.35109932,  91.36499888, 125.31680074,\n",
       "       162.34959971, 119.72379879, 165.06050103, 126.97159751,\n",
       "       112.65330007, 127.5032992 ,  94.8739993 ,  91.23529971,\n",
       "       103.67889904, 120.89019993,  83.07879934, 126.34690007,\n",
       "       160.27700419, 117.36140095, 118.39520002, 119.68899984,\n",
       "       122.86789958, 120.05320132, 121.47170032, 118.51250043,\n",
       "       106.93769972, 148.33760047, 126.01559858, 115.52180049,\n",
       "        74.22359978, 127.75530065, 154.39120049, 122.25020012,\n",
       "       125.68220041,  88.64600021, 103.39659864, 124.61250048,\n",
       "       120.19180041,  73.70650067, 151.65690001, 121.30020031,\n",
       "       104.49450024,  86.4899977 , 114.94079879, 172.20889932,\n",
       "       119.82310049, 160.63279767, 113.22009938, 120.97350029,\n",
       "       118.54380123,  95.95329989, 118.85200039, 125.98870055,\n",
       "       118.42289992,  95.85410049, 153.97260186, 122.10580031,\n",
       "       147.57620037, 159.10690205, 113.68790036, 122.4515994 ,\n",
       "       150.68249808, 127.33300042, 165.96370119, 135.80450013,\n",
       "       120.23209967, 167.25049873, 108.33699967, 121.59829872,\n",
       "       138.95020161, 107.19859909])"
      ]
     },
     "execution_count": 16,
     "metadata": {},
     "output_type": "execute_result"
    }
   ],
   "source": [
    "test_data_prediction= fore_reg.predict(X_test)\n",
    "test_data_prediction"
   ]
  },
  {
   "cell_type": "code",
   "execution_count": 17,
   "id": "scenic-liability",
   "metadata": {},
   "outputs": [
    {
     "data": {
      "text/plain": [
       "0.9891956081400102"
      ]
     },
     "execution_count": 17,
     "metadata": {},
     "output_type": "execute_result"
    }
   ],
   "source": [
    "error_score=metrics.r2_score(Y_test,test_data_prediction)\n",
    "error_score"
   ]
  },
  {
   "cell_type": "markdown",
   "id": "transsexual-offense",
   "metadata": {},
   "source": [
    "Compare the actual and predicted value in a plot"
   ]
  },
  {
   "cell_type": "code",
   "execution_count": 18,
   "id": "tutorial-dressing",
   "metadata": {},
   "outputs": [],
   "source": [
    "Y_test= list(Y_test)\n"
   ]
  },
  {
   "cell_type": "code",
   "execution_count": 19,
   "id": "enclosed-foster",
   "metadata": {},
   "outputs": [
    {
     "data": {
      "image/png": "[encoded data removed]",
      "text/plain": [
       "<Figure size 432x288 with 1 Axes>"
      ]
     },
     "metadata": {
      "needs_background": "light"
     },
     "output_type": "display_data"
    }
   ],
   "source": [
    "plt.plot(Y_test, color=\"red\", label= \"Actual value\")\n",
    "plt.plot(test_data_prediction, color='green', label='Predicted value')\n",
    "plt.title(\"actual vs Predicted gold price\")\n",
    "plt.xlabel('number of values')\n",
    "plt.ylabel('gold price ')\n",
    "plt.legend()\n",
    "plt.show()"
   ]
  },
  {
   "cell_type": "code",
   "execution_count": null,
   "id": "divine-raising",
   "metadata": {},
   "outputs": [],
   "source": []
  }
 ],
 "metadata": {
  "kernelspec": {
   "display_name": "Python 3",
   "language": "python",
   "name": "python3"
  },
  "language_info": {
   "codemirror_mode": {
    "name": "ipython",
    "version": 3
   },
   "file_extension": ".py",
   "mimetype": "text/x-python",
   "name": "python",
   "nbconvert_exporter": "python",
   "pygments_lexer": "ipython3",
   "version": "3.9.0"
  }
 },
 "nbformat": 4,
 "nbformat_minor": 5
}
